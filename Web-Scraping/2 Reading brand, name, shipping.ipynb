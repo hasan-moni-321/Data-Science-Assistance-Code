{
 "cells": [
  {
   "cell_type": "code",
   "execution_count": 1,
   "metadata": {},
   "outputs": [
    {
     "name": "stdout",
     "output_type": "stream",
     "text": [
      "Brand:  MSI\n",
      "Product Name:  MSI GeForce RTX 2060 DirectX 12 RTX 2060 VENTUS XS 6G OC Video Card\n",
      "Shipping:  Free Shipping\n",
      "Brand:  ASUS\n",
      "Product Name:  ASUS ROG Strix Radeon RX 5700 XT ROG-STRIX-RX5700XT-O8G-GAMING Video Card\n",
      "Shipping:  Free Shipping\n",
      "Brand:  GIGABYTE\n",
      "Product Name:  GIGABYTE GeForce GTX 1660 SUPER DirectX 12 GV-N166SGAMING-6GD Video Card\n",
      "Shipping:  Free Shipping\n",
      "Brand:  MSI\n",
      "Product Name:  MSI GeForce GTX 1660 SUPER DirectX 12 GTX 1660 SUPER VENTUS XS OC Video Card\n",
      "Shipping:  Free Shipping\n",
      "Brand:  EVGA\n",
      "Product Name:  EVGA GeForce RTX 2060 KO ULTRA GAMING Video Card, 06G-P4-2068-KR, 6GB GDDR6, Dual Fans, Metal Backplate\n",
      "Shipping:  Free Shipping\n",
      "Brand:  Sapphire Tech\n",
      "Product Name:  SAPPHIRE PULSE Radeon RX 5700 XT 100416P8GL Video Card\n",
      "Shipping:  Free Shipping\n",
      "Brand:  ASUS\n",
      "Product Name:  ASUS GeForce GTX 1660 Super Overclocked 6GB Dual-fan EVO Edition Graphics Card (DUAL-GTX1660S-O6G-EVO)\n",
      "Shipping:  $3.99 Shipping\n",
      "Brand:  Sapphire Tech\n",
      "Product Name:  SAPPHIRE PULSE Radeon RX 5600 XT DirectX 12 11296-01-20G Video Card\n",
      "Shipping:  $3.99 Shipping\n",
      "Brand:  XFX\n",
      "Product Name:  XFX Radeon RX 5600 XT RX-56XT6DF46 Video Card THICC II PRO-14GBPS 6GB BOOST UP TO 1620M D6  3xDP HDMI\n",
      "Shipping:  Free Shipping\n",
      "Brand:  ASRock\n",
      "Product Name:  ASRock Radeon RX 5700 XT DirectX 12 RX 5700 XT TAICHI X 8G OC+ Video Card\n",
      "Shipping:  Free Shipping\n",
      "Brand:  EVGA\n",
      "Product Name:  EVGA GeForce RTX 2060 XC GAMING, 6GB GDDR6, HDB Fan Graphics Card 06G-P4-2063-KR\n",
      "Shipping:  Free Shipping\n",
      "Brand:  GIGABYTE\n",
      "Product Name:  GIGABYTE Radeon RX 580 GAMING 8G (rev. 2.0) Graphics Card, PCIe 3.0, 8GB 256-Bit GDDR5, GV-RX580GAMING-8GD REV2.0 Video Card\n",
      "Shipping:  Free Shipping\n"
     ]
    }
   ],
   "source": [
    "import bs4\n",
    "from urllib.request import urlopen as uReq\n",
    "from bs4 import BeautifulSoup as soup\n",
    "\n",
    "\n",
    "myUrl = \"https://www.newegg.com/Video-Cards-Video-Devices/Category/ID-38?Tpk=graphics+card\"\n",
    "\n",
    "# opening up connection, grabbing the page\n",
    "uClient = uReq(myUrl)\n",
    "page_html = uClient.read()\n",
    "uClient.close()\n",
    "\n",
    "# html parsing\n",
    "page_soup = soup(page_html, \"html.parser\")\n",
    "\n",
    "# grabs each product\n",
    "containers = page_soup.findAll(\"div\", {\"class\":\"item-container\"})\n",
    "\n",
    "for container in containers:\n",
    "    brand = container.div.div.a.img[\"title\"]\n",
    "    \n",
    "    title_container = container.findAll(\"a\", {\"class\":\"item-title\"})\n",
    "    product_name = title_container[0].text\n",
    "    \n",
    "    shipping_container = container.findAll('li', {'class':'price-ship'})\n",
    "    shipping = shipping_container[0].text.strip()\n",
    "    \n",
    "    \n",
    "    print(\"Brand: \",brand) \n",
    "    print(\"Product Name: \",product_name)\n",
    "    print(\"Shipping: \",shipping)\n",
    "    \n",
    "    \n",
    "    "
   ]
  },
  {
   "cell_type": "code",
   "execution_count": null,
   "metadata": {},
   "outputs": [],
   "source": []
  }
 ],
 "metadata": {
  "kernelspec": {
   "display_name": "Python 3",
   "language": "python",
   "name": "python3"
  },
  "language_info": {
   "codemirror_mode": {
    "name": "ipython",
    "version": 3
   },
   "file_extension": ".py",
   "mimetype": "text/x-python",
   "name": "python",
   "nbconvert_exporter": "python",
   "pygments_lexer": "ipython3",
   "version": "3.7.4"
  }
 },
 "nbformat": 4,
 "nbformat_minor": 2
}
