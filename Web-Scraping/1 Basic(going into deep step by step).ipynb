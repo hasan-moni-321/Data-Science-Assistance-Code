{
 "cells": [
  {
   "cell_type": "code",
   "execution_count": 5,
   "metadata": {},
   "outputs": [],
   "source": [
    "import bs4\n",
    "from urllib.request import urlopen as uReq\n",
    "from bs4 import BeautifulSoup as soup\n",
    "\n",
    "\n",
    "myUrl = \"https://www.newegg.com/Video-Cards-Video-Devices/Category/ID-38?Tpk=graphics+card\"\n",
    "\n",
    "# opening up connection, grabbing the page\n",
    "uClient = uReq(myUrl)\n",
    "page_html = uClient.read()\n",
    "uClient.close()\n",
    "\n",
    "# html parsing\n",
    "page_soup = soup(page_html, \"html.parser\")\n",
    "\n"
   ]
  },
  {
   "cell_type": "code",
   "execution_count": 6,
   "metadata": {},
   "outputs": [
    {
     "data": {
      "text/plain": [
       "<h1 class=\"page-title-text\">Video Cards &amp; Video Devices</h1>"
      ]
     },
     "execution_count": 6,
     "metadata": {},
     "output_type": "execute_result"
    }
   ],
   "source": [
    "# finding h1 tag\n",
    "page_soup.h1"
   ]
  },
  {
   "cell_type": "code",
   "execution_count": 7,
   "metadata": {},
   "outputs": [
    {
     "data": {
      "text/plain": [
       "<p class=\"item-promo\"><i class=\"item-promo-icon\"></i>+ $30 off w/ promo code VGAMSIET228, limited offer</p>"
      ]
     },
     "execution_count": 7,
     "metadata": {},
     "output_type": "execute_result"
    }
   ],
   "source": [
    "#finding p tag\n",
    "page_soup.p"
   ]
  },
  {
   "cell_type": "code",
   "execution_count": 11,
   "metadata": {},
   "outputs": [
    {
     "data": {
      "text/plain": [
       "<div><script type=\"text/javascript\">;;;(function(){var e=document.querySelector('meta[name=\"viewport\"]'),t=document.createElement(\"meta\");t.name=\"viewport\",t.content=\"width=device-width\",e||document.head.appendChild(t)})();</script></div>"
      ]
     },
     "execution_count": 11,
     "metadata": {},
     "output_type": "execute_result"
    }
   ],
   "source": [
    "# finding div tag\n",
    "page_soup.body.div"
   ]
  },
  {
   "cell_type": "code",
   "execution_count": 9,
   "metadata": {},
   "outputs": [
    {
     "data": {
      "text/plain": [
       "<header class=\"header2020\"><div class=\"header2020-inner\"><div class=\"header2020-hamburger menu-box is-gray-menu\"><i aria-label=\"Site Menu\" class=\"fas fa-bars\"></i></div><div class=\"header2020-logo\"><a class=\"header2020-logo-img\" href=\"https://www.newegg.com/\" title=\"Newegg.com - Computer Parts, Laptops, Electronics, HDTVs, Digital Cameras and More!\"><img alt=\"Newegg\" src=\"https://c1.neweggimages.com/webResource/Themes/Nest/logos/logo_424x210.png\"/></a></div><div class=\"header2020-search\"><div class=\"header2020-search-bar\"><div class=\"header2020-search-bar-inner\"><div class=\"header2020-search-box\"><input aria-label=\"Keywords, Model # or Item #\" autocomplete=\"off\" placeholder=\"Keywords, Model # or Item #\" title=\"Search Site\" type=\"search\" value=\"\"/></div><div class=\"header2020-search-button\"><button class=\"fas fa-search\"><span class=\"hid-text\">Search</span></button></div></div></div><div class=\"header2020-portals\"></div></div><div class=\"header2020-right\"><div class=\"display-flex justify-content-flex-end\"><div class=\"nav-complex\"><a class=\"nav-complex-inner\" href=\"https://secure.newegg.com/NewMyAccount/AccountLogin.aspx?nextpage=\"><i class=\"fas fa-user-circle\"></i></a></div><div class=\"nav-complex\"><a aria-label=\"Shopping Cart\" class=\"nav-complex-inner\" href=\"https://secure.newegg.com/Shopping/ShoppingCart.aspx?Submit=view\" title=\"Shopping Cart\"><i aria-label=\"icon of shopping cart\" class=\"fas fa-shopping-cart\"></i></a></div></div><div class=\"display-flex justify-content-flex-end\"><div class=\"header2020-links\"><a href=\"//www.neweggbusiness.com/?utm_medium=newegg&amp;utm_source=newegg-home&amp;cm_mmc=ref-newegg-_-newegg-home-_-na-_-na\" target=\"_blank\" title=\"Newegg Business\"><span class=\"header2020-b2b-newegg\">Newegg</span> <span class=\"header2020-b2b-business\">Business</span></a></div><div class=\"header2020-links\"><a href=\"#\" title=\"Feedback\"><i class=\"fas fa-comment\"></i> <span>Feedback</span></a></div><div class=\"header2020-links menu-box is-gray-menu\"><a class=\"menu-box-trigger\" href=\"#\" title=\"Customer Service\"><i aria-label=\"icon of Customer Service\" class=\"fas fa-question-circle\"></i> <span>Customer Service</span></a></div><div class=\"header2020-links\"><a class=\"open-popup\" href=\"#\" title=\"Change Country\"><i class=\"flag us\"></i><span class=\"hid-text\">Change Country</span></a></div></div></div></div></header>"
      ]
     },
     "execution_count": 9,
     "metadata": {},
     "output_type": "execute_result"
    }
   ],
   "source": [
    "#finding header tag\n",
    "page_soup.body.header"
   ]
  },
  {
   "cell_type": "code",
   "execution_count": 10,
   "metadata": {},
   "outputs": [
    {
     "data": {
      "text/plain": [
       "<span class=\"hid-text\">Search</span>"
      ]
     },
     "execution_count": 10,
     "metadata": {},
     "output_type": "execute_result"
    }
   ],
   "source": [
    "page_soup.body.span"
   ]
  },
  {
   "cell_type": "code",
   "execution_count": 13,
   "metadata": {},
   "outputs": [],
   "source": [
    "# grabs each product\n",
    "container = page_soup.findAll(\"div\", {\"class\":\"item-container\"})\n"
   ]
  },
  {
   "cell_type": "code",
   "execution_count": 14,
   "metadata": {},
   "outputs": [
    {
     "data": {
      "text/plain": [
       "12"
      ]
     },
     "execution_count": 14,
     "metadata": {},
     "output_type": "execute_result"
    }
   ],
   "source": [
    "# total number of product\n",
    "len(container)"
   ]
  },
  {
   "cell_type": "code",
   "execution_count": 15,
   "metadata": {},
   "outputs": [
    {
     "data": {
      "text/plain": [
       "<div class=\"item-container\"><a class=\"item-img\" href=\"https://www.newegg.com/msi-geforce-rtx-2060-rtx-2060-ventus-xs-6g-oc/p/N82E16814137396?Item=N82E16814137396\"><img alt=\"MSI GeForce RTX 2060 DirectX 12 RTX 2060 VENTUS XS 6G OC 6GB 192-Bit GDDR6 PCI Express 3.0 x16 HDCP Ready Video Card\" src=\"https://c1.neweggimages.com/ProductImageCompressAll300/14-137-396-01.jpg\" title=\"MSI GeForce RTX 2060 DirectX 12 RTX 2060 VENTUS XS 6G OC 6GB 192-Bit GDDR6 PCI Express 3.0 x16 HDCP Ready Video Card\"/></a><div class=\"item-info\"><div class=\"item-branding\"><a class=\"item-brand\" href=\"https://www.newegg.com/MSI/BrandStore/ID-1312\"><img alt=\"MSI\" src=\"https://c1.neweggimages.com/Brandimage_70x28/Brand1312.gif\" title=\"MSI\"/></a><a class=\"item-rating\" href=\"https://www.newegg.com/msi-geforce-rtx-2060-rtx-2060-ventus-xs-6g-oc/p/N82E16814137396?Item=N82E16814137396&amp;IsFeedbackTab=true#scrollFullInfo\" title=\"Rating + 4\"><i class=\"rating rating-4\"></i><span class=\"item-rating-num\">(86)</span></a></div><a class=\"item-title\" href=\"https://www.newegg.com/msi-geforce-rtx-2060-rtx-2060-ventus-xs-6g-oc/p/N82E16814137396?Item=N82E16814137396\" title=\"View Details\">MSI GeForce RTX 2060 DirectX 12 RTX 2060 VENTUS XS 6G OC Video Card</a><p class=\"item-promo\"><i class=\"item-promo-icon\"></i>+ $30 off w/ promo code VGAMSIET228, limited offer</p><ul class=\"item-features\"><li><strong>Max Resolution:</strong> 7680 x 4320</li><li><strong>DisplayPort:</strong> 3 x DisplayPort 1.4</li><li><strong>HDMI:</strong> 1 x HDMI 2.0b</li><li><strong>Card Dimensions (L x H):</strong> 8.07\" x 5.04\"</li><li><strong>Model #: </strong>RTX2060VENTUSXS6OC</li><li><strong>Item #: </strong>N82E16814137396</li><li><strong>Return Policy: </strong><a href=\"https://kb.newegg.com/Article/Index/12/3?id=1167#44\" target=\"_blank\" title=\"Standard Return Policy(New Window)\">Standard Return Policy</a></li></ul></div><div class=\"item-action\"><ul class=\"price\"><li class=\"price-was\"></li><li class=\"price-map\"> </li><li class=\"price-current\"><span class=\"price-current-label\"></span>$<strong>339</strong><sup>.99</sup> <a class=\"price-current-num\" href=\"https://www.newegg.com/msi-geforce-rtx-2060-rtx-2060-ventus-xs-6g-oc/p/N82E16814137396?Item=N82E16814137396&amp;buyingoptions=New\">(10 Offers)</a><span class=\"price-current-range\"><abbr title=\"to\">–</abbr></span></li><li class=\"price-save\"></li><li class=\"price-note\"><span class=\"price-note-dollar\">$319.99</span><span class=\"price-note-label\"> after </span><span class=\"price-note-dollar\">$20.00</span><span class=\"price-note-label\"> rebate card</span></li><li class=\"price-ship\">Free Shipping</li></ul><div class=\"item-operate hidden-action-button\"><div class=\"item-button-area\"><button class=\"btn btn-mini\" title=\"View Details \">View Details <i class=\"fas fa-caret-right\"></i></button></div><div class=\"item-compare-box\"><label class=\"form-checkbox\"><input autocomplete=\"off\" type=\"checkbox\"/><span class=\"form-checkbox-title\">Compare</span></label></div><div class=\"popover left popover-compare\" style=\"position:absolute;top:0;left:0;opacity:0;pointer-events:none;display:none\"><div class=\"popover-title\">Selected Items</div><i class=\"popover-arrow compare\"></i><div class=\"popover-body\"></div><div class=\"popover-btn-area\"><div class=\"popover-compare-btn-normal\"><button class=\"btn btn-mini btn-tertiary\">EDIT</button><button class=\"btn btn-mini btn-secondary\">COMPARE</button></div></div></div></div></div><div class=\"item-stock\" id=\"stock_14-137-396\"></div></div>"
      ]
     },
     "execution_count": 15,
     "metadata": {},
     "output_type": "execute_result"
    }
   ],
   "source": [
    "# first product\n",
    "container[0]"
   ]
  },
  {
   "cell_type": "code",
   "execution_count": 16,
   "metadata": {},
   "outputs": [],
   "source": [
    "container = container[0]"
   ]
  },
  {
   "cell_type": "code",
   "execution_count": 17,
   "metadata": {},
   "outputs": [
    {
     "data": {
      "text/plain": [
       "<a class=\"item-img\" href=\"https://www.newegg.com/msi-geforce-rtx-2060-rtx-2060-ventus-xs-6g-oc/p/N82E16814137396?Item=N82E16814137396\"><img alt=\"MSI GeForce RTX 2060 DirectX 12 RTX 2060 VENTUS XS 6G OC 6GB 192-Bit GDDR6 PCI Express 3.0 x16 HDCP Ready Video Card\" src=\"https://c1.neweggimages.com/ProductImageCompressAll300/14-137-396-01.jpg\" title=\"MSI GeForce RTX 2060 DirectX 12 RTX 2060 VENTUS XS 6G OC 6GB 192-Bit GDDR6 PCI Express 3.0 x16 HDCP Ready Video Card\"/></a>"
      ]
     },
     "execution_count": 17,
     "metadata": {},
     "output_type": "execute_result"
    }
   ],
   "source": [
    "# jump to a tag\n",
    "container.a"
   ]
  },
  {
   "cell_type": "code",
   "execution_count": 18,
   "metadata": {},
   "outputs": [
    {
     "data": {
      "text/plain": [
       "<div class=\"item-info\"><div class=\"item-branding\"><a class=\"item-brand\" href=\"https://www.newegg.com/MSI/BrandStore/ID-1312\"><img alt=\"MSI\" src=\"https://c1.neweggimages.com/Brandimage_70x28/Brand1312.gif\" title=\"MSI\"/></a><a class=\"item-rating\" href=\"https://www.newegg.com/msi-geforce-rtx-2060-rtx-2060-ventus-xs-6g-oc/p/N82E16814137396?Item=N82E16814137396&amp;IsFeedbackTab=true#scrollFullInfo\" title=\"Rating + 4\"><i class=\"rating rating-4\"></i><span class=\"item-rating-num\">(86)</span></a></div><a class=\"item-title\" href=\"https://www.newegg.com/msi-geforce-rtx-2060-rtx-2060-ventus-xs-6g-oc/p/N82E16814137396?Item=N82E16814137396\" title=\"View Details\">MSI GeForce RTX 2060 DirectX 12 RTX 2060 VENTUS XS 6G OC Video Card</a><p class=\"item-promo\"><i class=\"item-promo-icon\"></i>+ $30 off w/ promo code VGAMSIET228, limited offer</p><ul class=\"item-features\"><li><strong>Max Resolution:</strong> 7680 x 4320</li><li><strong>DisplayPort:</strong> 3 x DisplayPort 1.4</li><li><strong>HDMI:</strong> 1 x HDMI 2.0b</li><li><strong>Card Dimensions (L x H):</strong> 8.07\" x 5.04\"</li><li><strong>Model #: </strong>RTX2060VENTUSXS6OC</li><li><strong>Item #: </strong>N82E16814137396</li><li><strong>Return Policy: </strong><a href=\"https://kb.newegg.com/Article/Index/12/3?id=1167#44\" target=\"_blank\" title=\"Standard Return Policy(New Window)\">Standard Return Policy</a></li></ul></div>"
      ]
     },
     "execution_count": 18,
     "metadata": {},
     "output_type": "execute_result"
    }
   ],
   "source": [
    "# jump to next div tag\n",
    "container.div"
   ]
  },
  {
   "cell_type": "code",
   "execution_count": 19,
   "metadata": {},
   "outputs": [
    {
     "data": {
      "text/plain": [
       "<a class=\"item-brand\" href=\"https://www.newegg.com/MSI/BrandStore/ID-1312\"><img alt=\"MSI\" src=\"https://c1.neweggimages.com/Brandimage_70x28/Brand1312.gif\" title=\"MSI\"/></a>"
      ]
     },
     "execution_count": 19,
     "metadata": {},
     "output_type": "execute_result"
    }
   ],
   "source": [
    "# finding a tag\n",
    "container.div.div.a"
   ]
  },
  {
   "cell_type": "code",
   "execution_count": 20,
   "metadata": {},
   "outputs": [
    {
     "data": {
      "text/plain": [
       "<img alt=\"MSI\" src=\"https://c1.neweggimages.com/Brandimage_70x28/Brand1312.gif\" title=\"MSI\"/>"
      ]
     },
     "execution_count": 20,
     "metadata": {},
     "output_type": "execute_result"
    }
   ],
   "source": [
    "# finding img tag\n",
    "container.div.div.a.img"
   ]
  },
  {
   "cell_type": "code",
   "execution_count": 21,
   "metadata": {},
   "outputs": [
    {
     "data": {
      "text/plain": [
       "'MSI'"
      ]
     },
     "execution_count": 21,
     "metadata": {},
     "output_type": "execute_result"
    }
   ],
   "source": [
    "# finding title\n",
    "container.div.div.a.img[\"title\"]"
   ]
  },
  {
   "cell_type": "code",
   "execution_count": 22,
   "metadata": {},
   "outputs": [],
   "source": [
    "# finding  a tage where class==\"item-title\"\n",
    "title_container = container.findAll(\"a\", {\"class\":\"item-title\"})"
   ]
  },
  {
   "cell_type": "code",
   "execution_count": 23,
   "metadata": {},
   "outputs": [
    {
     "data": {
      "text/plain": [
       "[<a class=\"item-title\" href=\"https://www.newegg.com/msi-geforce-rtx-2060-rtx-2060-ventus-xs-6g-oc/p/N82E16814137396?Item=N82E16814137396\" title=\"View Details\">MSI GeForce RTX 2060 DirectX 12 RTX 2060 VENTUS XS 6G OC Video Card</a>]"
      ]
     },
     "execution_count": 23,
     "metadata": {},
     "output_type": "execute_result"
    }
   ],
   "source": [
    "title_container"
   ]
  },
  {
   "cell_type": "code",
   "execution_count": 24,
   "metadata": {},
   "outputs": [
    {
     "data": {
      "text/plain": [
       "<a class=\"item-title\" href=\"https://www.newegg.com/msi-geforce-rtx-2060-rtx-2060-ventus-xs-6g-oc/p/N82E16814137396?Item=N82E16814137396\" title=\"View Details\">MSI GeForce RTX 2060 DirectX 12 RTX 2060 VENTUS XS 6G OC Video Card</a>"
      ]
     },
     "execution_count": 24,
     "metadata": {},
     "output_type": "execute_result"
    }
   ],
   "source": [
    "# \n",
    "title_container[0]"
   ]
  },
  {
   "cell_type": "code",
   "execution_count": 25,
   "metadata": {},
   "outputs": [
    {
     "data": {
      "text/plain": [
       "'MSI GeForce RTX 2060 DirectX 12 RTX 2060 VENTUS XS 6G OC Video Card'"
      ]
     },
     "execution_count": 25,
     "metadata": {},
     "output_type": "execute_result"
    }
   ],
   "source": [
    "# finding product name\n",
    "title_container[0].text"
   ]
  },
  {
   "cell_type": "code",
   "execution_count": 27,
   "metadata": {},
   "outputs": [],
   "source": [
    "# finding price-ship class\n",
    "\n",
    "shipping_container = container.findAll(\"li\", {\"class\":\"price-ship\"})"
   ]
  },
  {
   "cell_type": "code",
   "execution_count": 28,
   "metadata": {},
   "outputs": [
    {
     "data": {
      "text/plain": [
       "[<li class=\"price-ship\">Free Shipping</li>]"
      ]
     },
     "execution_count": 28,
     "metadata": {},
     "output_type": "execute_result"
    }
   ],
   "source": [
    "shipping_container"
   ]
  },
  {
   "cell_type": "code",
   "execution_count": 29,
   "metadata": {},
   "outputs": [
    {
     "data": {
      "text/plain": [
       "'Free Shipping'"
      ]
     },
     "execution_count": 29,
     "metadata": {},
     "output_type": "execute_result"
    }
   ],
   "source": [
    "shipping_container[0].text"
   ]
  },
  {
   "cell_type": "code",
   "execution_count": 30,
   "metadata": {},
   "outputs": [
    {
     "data": {
      "text/plain": [
       "'Free Shipping'"
      ]
     },
     "execution_count": 30,
     "metadata": {},
     "output_type": "execute_result"
    }
   ],
   "source": [
    "shipping_container[0].text.strip()"
   ]
  },
  {
   "cell_type": "code",
   "execution_count": null,
   "metadata": {},
   "outputs": [],
   "source": []
  }
 ],
 "metadata": {
  "kernelspec": {
   "display_name": "Python 3",
   "language": "python",
   "name": "python3"
  },
  "language_info": {
   "codemirror_mode": {
    "name": "ipython",
    "version": 3
   },
   "file_extension": ".py",
   "mimetype": "text/x-python",
   "name": "python",
   "nbconvert_exporter": "python",
   "pygments_lexer": "ipython3",
   "version": "3.7.4"
  }
 },
 "nbformat": 4,
 "nbformat_minor": 2
}
