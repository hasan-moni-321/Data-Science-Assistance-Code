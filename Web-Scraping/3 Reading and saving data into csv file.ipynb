{
 "cells": [
  {
   "cell_type": "code",
   "execution_count": 2,
   "metadata": {},
   "outputs": [],
   "source": [
    "import bs4\n",
    "from urllib.request import urlopen as uReq\n",
    "from bs4 import BeautifulSoup as soup\n",
    "\n",
    "\n",
    "myUrl = \"https://www.newegg.com/Video-Cards-Video-Devices/Category/ID-38?Tpk=graphics+card\"\n",
    "\n",
    "# opening up connection, grabbing the page\n",
    "uClient = uReq(myUrl)\n",
    "page_html = uClient.read()\n",
    "uClient.close()\n",
    "\n",
    "# html parsing\n",
    "page_soup = soup(page_html, \"html.parser\")\n",
    "\n",
    "# grabs each product\n",
    "containers = page_soup.findAll(\"div\", {\"class\":\"item-container\"})\n",
    "\n",
    "\n",
    "\n",
    "filename = \"product.csv\"\n",
    "f = open(filename, 'w')\n",
    "header = \"brand, product_name, shipping\\n\"\n",
    "f.write(\"header\")\n",
    "\n",
    "\n",
    "for container in containers:\n",
    "    brand = container.div.div.a.img[\"title\"]\n",
    "    \n",
    "    title_container = container.findAll(\"a\", {\"class\":\"item-title\"})\n",
    "    product_name = title_container[0].text\n",
    "    \n",
    "    shipping_container = container.findAll('li', {'class':'price-ship'})\n",
    "    shipping = shipping_container[0].text.strip()\n",
    "    \n",
    "    \n",
    "    f.write(brand+ \",\" +product_name.replace(\",\", \"|\")+ \",\" +shipping+ \"\\n\")\n",
    "f.close()\n",
    "    \n",
    "    "
   ]
  },
  {
   "cell_type": "code",
   "execution_count": null,
   "metadata": {},
   "outputs": [],
   "source": []
  }
 ],
 "metadata": {
  "kernelspec": {
   "display_name": "Python 3",
   "language": "python",
   "name": "python3"
  },
  "language_info": {
   "codemirror_mode": {
    "name": "ipython",
    "version": 3
   },
   "file_extension": ".py",
   "mimetype": "text/x-python",
   "name": "python",
   "nbconvert_exporter": "python",
   "pygments_lexer": "ipython3",
   "version": "3.7.4"
  }
 },
 "nbformat": 4,
 "nbformat_minor": 2
}
