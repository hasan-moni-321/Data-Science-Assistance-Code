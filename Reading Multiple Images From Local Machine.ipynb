{
 "cells": [
  {
   "cell_type": "code",
   "execution_count": null,
   "metadata": {},
   "outputs": [],
   "source": [
    "DATADIR = '/home/hasan/DATA SET/cat dog/train'\n",
    "CATEGORIES = ['cat','dog']"
   ]
  },
  {
   "cell_type": "code",
   "execution_count": null,
   "metadata": {},
   "outputs": [],
   "source": [
    "training_data = []\n",
    "\n",
    "def create_training_data():\n",
    "    for categories in CATEGORIES:\n",
    "        path = os.path.join(DATADIR, categories)\n",
    "        n_class = CATEGORIES.index(categories)\n",
    "        for images in os.listdir(path):\n",
    "            try:\n",
    "                image_array = cv.imread(os.path.join(path,images), cv.IMREAD_GRAYSCALE)\n",
    "\n",
    "                new_array = cv.resize(image_array,(224, 224))\n",
    "                training_data.append([new_array, n_class])\n",
    "            except Exception as e:\n",
    "                pass\n",
    "\n",
    "create_training_data()"
   ]
  },
  {
   "cell_type": "code",
   "execution_count": null,
   "metadata": {},
   "outputs": [],
   "source": []
  },
  {
   "cell_type": "code",
   "execution_count": null,
   "metadata": {},
   "outputs": [],
   "source": []
  }
 ],
 "metadata": {
  "kernelspec": {
   "display_name": "Python 3",
   "language": "python",
   "name": "python3"
  },
  "language_info": {
   "codemirror_mode": {
    "name": "ipython",
    "version": 3
   },
   "file_extension": ".py",
   "mimetype": "text/x-python",
   "name": "python",
   "nbconvert_exporter": "python",
   "pygments_lexer": "ipython3",
   "version": "3.7.4"
  }
 },
 "nbformat": 4,
 "nbformat_minor": 2
}
