{
 "cells": [
  {
   "cell_type": "code",
   "execution_count": null,
   "metadata": {},
   "outputs": [],
   "source": [
    "Conditio of Multilabel Classification :->\n",
    "    1. Last layers output/number_of_neuron must be same as total number of layers.\n",
    "    2. "
   ]
  },
  {
   "cell_type": "code",
   "execution_count": 21,
   "metadata": {},
   "outputs": [],
   "source": [
    "import numpy as np\n",
    "\n",
    "from sklearn.datasets import make_multilabel_classification\n",
    "from sklearn.model_selection import RepeatedKFold\n",
    "from sklearn.metrics import accuracy_score\n",
    "\n",
    "import keras\n",
    "from keras.models import Sequential\n",
    "from keras.layers import Dense\n"
   ]
  },
  {
   "cell_type": "code",
   "execution_count": null,
   "metadata": {},
   "outputs": [],
   "source": []
  },
  {
   "cell_type": "markdown",
   "metadata": {},
   "source": [
    "### Building Dataset"
   ]
  },
  {
   "cell_type": "code",
   "execution_count": 12,
   "metadata": {},
   "outputs": [],
   "source": [
    "X, y = make_multilabel_classification(n_samples=2000, n_features=10, n_classes=3, n_labels=2, random_state=1)"
   ]
  },
  {
   "cell_type": "code",
   "execution_count": 13,
   "metadata": {},
   "outputs": [
    {
     "name": "stdout",
     "output_type": "stream",
     "text": [
      "Shape of X is :(2000, 10), Shape of y is :(2000, 3)\n"
     ]
    }
   ],
   "source": [
    "print(f\"Shape of X is :{X.shape}, Shape of y is :{y.shape}\")"
   ]
  },
  {
   "cell_type": "code",
   "execution_count": 17,
   "metadata": {},
   "outputs": [
    {
     "name": "stdout",
     "output_type": "stream",
     "text": [
      "[ 3.  3.  6.  7.  8.  2. 11. 11.  1.  3.]\n",
      "[7. 6. 4. 4. 6. 8. 3. 4. 6. 4.]\n",
      "[ 5.  5. 13.  7.  6.  3.  6. 11.  4.  2.]\n",
      "[1. 1. 5. 5. 7. 3. 4. 6. 4. 4.]\n",
      "[ 4.  2.  3. 13.  7.  2.  4. 12.  1.  7.]\n"
     ]
    }
   ],
   "source": [
    "for row in range(5):\n",
    "    print(X[row])"
   ]
  },
  {
   "cell_type": "code",
   "execution_count": 18,
   "metadata": {},
   "outputs": [
    {
     "name": "stdout",
     "output_type": "stream",
     "text": [
      "[1 1 0]\n",
      "[0 0 0]\n",
      "[1 1 0]\n",
      "[1 1 1]\n",
      "[0 1 0]\n"
     ]
    }
   ],
   "source": [
    "for label in range(5):\n",
    "    print(y[label])"
   ]
  },
  {
   "cell_type": "code",
   "execution_count": null,
   "metadata": {},
   "outputs": [],
   "source": []
  },
  {
   "cell_type": "code",
   "execution_count": null,
   "metadata": {},
   "outputs": [],
   "source": []
  },
  {
   "cell_type": "markdown",
   "metadata": {},
   "source": [
    "### Smart Way"
   ]
  },
  {
   "cell_type": "code",
   "execution_count": 42,
   "metadata": {},
   "outputs": [],
   "source": [
    "def get_dataset():\n",
    "    X, y = make_multilabel_classification(n_samples=1000, n_features=10, n_classes=3, n_labels=2, random_state=1)\n",
    "    return X, y\n"
   ]
  },
  {
   "cell_type": "code",
   "execution_count": null,
   "metadata": {},
   "outputs": [],
   "source": []
  },
  {
   "cell_type": "code",
   "execution_count": 43,
   "metadata": {},
   "outputs": [],
   "source": [
    "def get_model(n_inputs, n_outputs):\n",
    "    model = Sequential()\n",
    "    model.add(Dense(20, input_dim=n_inputs, kernel_initializer='he_uniform', activation='relu'))\n",
    "    model.add(Dense(n_outputs, activation='sigmoid'))\n",
    "    model.compile(loss='binary_crossentropy', optimizer='adam')\n",
    "    return model\n"
   ]
  },
  {
   "cell_type": "code",
   "execution_count": null,
   "metadata": {},
   "outputs": [],
   "source": []
  },
  {
   "cell_type": "code",
   "execution_count": 48,
   "metadata": {},
   "outputs": [],
   "source": [
    "def train(X,y):\n",
    "    results = list()\n",
    "    n_inputs, n_outputs = X.shape[1], y.shape[1]\n",
    "    cv = RepeatedKFold(n_splits=10, n_repeats=3, random_state=1)\n",
    "    for i, (train_x, test_x) in enumerate(cv.split(X)):\n",
    "        X_train, X_test = X[train_x], X[test_x] \n",
    "        Y_train, Y_test = y[train_x], y[test_x]\n",
    "        \n",
    "        model = build_model(n_inputs, n_outputs)\n",
    "        model.fit(X_train, Y_train, verbose=0, epochs=100)\n",
    "        yhat = model.predict(X_test)\n",
    "        yhat = yhat.round()\n",
    "        acc = accuracy_score(Y_test, yhat)\n",
    "        print(f'Accuracy score in folds {i} is :{acc}')\n",
    "        results.append(acc)\n",
    "    return model, results \n",
    "\n",
    "\n",
    "        "
   ]
  },
  {
   "cell_type": "code",
   "execution_count": 49,
   "metadata": {},
   "outputs": [
    {
     "name": "stdout",
     "output_type": "stream",
     "text": [
      "Accuracy score in folds 0 is :0.855\n",
      "Accuracy score in folds 1 is :0.845\n",
      "Accuracy score in folds 2 is :0.825\n",
      "Accuracy score in folds 3 is :0.8\n",
      "Accuracy score in folds 4 is :0.785\n",
      "Accuracy score in folds 5 is :0.845\n",
      "Accuracy score in folds 6 is :0.81\n",
      "Accuracy score in folds 7 is :0.805\n",
      "Accuracy score in folds 8 is :0.855\n",
      "Accuracy score in folds 9 is :0.75\n",
      "Accuracy score in folds 10 is :0.88\n",
      "Accuracy score in folds 11 is :0.805\n",
      "Accuracy score in folds 12 is :0.785\n",
      "Accuracy score in folds 13 is :0.81\n",
      "Accuracy score in folds 14 is :0.835\n",
      "Accuracy score in folds 15 is :0.8\n",
      "Accuracy score in folds 16 is :0.835\n",
      "Accuracy score in folds 17 is :0.805\n",
      "Accuracy score in folds 18 is :0.815\n",
      "Accuracy score in folds 19 is :0.8\n",
      "Accuracy score in folds 20 is :0.84\n",
      "Accuracy score in folds 21 is :0.84\n",
      "Accuracy score in folds 22 is :0.76\n",
      "Accuracy score in folds 23 is :0.825\n",
      "Accuracy score in folds 24 is :0.825\n",
      "Accuracy score in folds 25 is :0.85\n",
      "Accuracy score in folds 26 is :0.84\n",
      "Accuracy score in folds 27 is :0.845\n",
      "Accuracy score in folds 28 is :0.835\n",
      "Accuracy score in folds 29 is :0.82\n"
     ]
    }
   ],
   "source": [
    "X, y = build_dataset()\n",
    "\n",
    "model, result = train(X, y)"
   ]
  },
  {
   "cell_type": "code",
   "execution_count": 50,
   "metadata": {},
   "outputs": [
    {
     "name": "stdout",
     "output_type": "stream",
     "text": [
      "Accuracy : 0.8208333333333333, 0.028168638984200516\n"
     ]
    }
   ],
   "source": [
    "print(f\"Accuracy : {np.mean(result)}, {np.std(result)}\")"
   ]
  },
  {
   "cell_type": "code",
   "execution_count": null,
   "metadata": {},
   "outputs": [],
   "source": []
  },
  {
   "cell_type": "code",
   "execution_count": 51,
   "metadata": {},
   "outputs": [],
   "source": [
    "row = [3, 3, 6, 7, 8, 2, 11, 11, 1, 3]\n",
    "newX = np.asarray([row])\n",
    "yhat = model.predict(newX)"
   ]
  },
  {
   "cell_type": "code",
   "execution_count": 52,
   "metadata": {},
   "outputs": [
    {
     "data": {
      "text/plain": [
       "array([[0.9976742 , 0.99445236, 0.004444  ]], dtype=float32)"
      ]
     },
     "execution_count": 52,
     "metadata": {},
     "output_type": "execute_result"
    }
   ],
   "source": [
    "yhat"
   ]
  },
  {
   "cell_type": "code",
   "execution_count": null,
   "metadata": {},
   "outputs": [],
   "source": []
  }
 ],
 "metadata": {
  "kernelspec": {
   "display_name": "Python 3",
   "language": "python",
   "name": "python3"
  },
  "language_info": {
   "codemirror_mode": {
    "name": "ipython",
    "version": 3
   },
   "file_extension": ".py",
   "mimetype": "text/x-python",
   "name": "python",
   "nbconvert_exporter": "python",
   "pygments_lexer": "ipython3",
   "version": "3.8.3"
  }
 },
 "nbformat": 4,
 "nbformat_minor": 4
}
