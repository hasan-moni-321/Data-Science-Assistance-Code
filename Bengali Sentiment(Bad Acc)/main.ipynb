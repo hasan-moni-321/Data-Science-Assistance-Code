{
 "cells": [
  {
   "cell_type": "code",
   "execution_count": 229,
   "metadata": {},
   "outputs": [],
   "source": [
    "import numpy as np\n",
    "import pandas as pd \n",
    "import seaborn as sns\n",
    "import matplotlib.pyplot as plt\n",
    "\n",
    "import itertools  \n",
    "\n",
    "from sklearn.naive_bayes import MultinomialNB\n",
    "\n",
    "from sklearn.model_selection import train_test_split\n",
    "from sklearn.metrics import accuracy_score\n",
    "from sklearn.linear_model import PassiveAggressiveClassifier\n",
    "from sklearn.metrics import classification_report, confusion_matrix\n",
    "#from sklearn.feature_extraction.text import CountVectorizer, TfidfVectorizer, HashingVectorizer\n",
    "\n",
    "from keras.preprocessing.text import Tokenizer\n",
    "from keras.preprocessing.sequence import pad_sequences\n",
    "from keras.models import Sequential\n",
    "from keras.layers import Embedding, Dense, Dropout\n",
    "from keras.layers import Bidirectional, LSTM\n",
    "\n"
   ]
  },
  {
   "cell_type": "markdown",
   "metadata": {},
   "source": [
    "### Loading Dataset"
   ]
  },
  {
   "cell_type": "code",
   "execution_count": 193,
   "metadata": {},
   "outputs": [],
   "source": [
    "data = pd.read_csv(\"/home/hasan/Desktop/Code to keep on Github/Bengali Sentiment Bert/Bengal_Sentiment_Clean_Data.csv\")"
   ]
  },
  {
   "cell_type": "code",
   "execution_count": 194,
   "metadata": {},
   "outputs": [
    {
     "data": {
      "text/html": [
       "<div>\n",
       "<style scoped>\n",
       "    .dataframe tbody tr th:only-of-type {\n",
       "        vertical-align: middle;\n",
       "    }\n",
       "\n",
       "    .dataframe tbody tr th {\n",
       "        vertical-align: top;\n",
       "    }\n",
       "\n",
       "    .dataframe thead th {\n",
       "        text-align: right;\n",
       "    }\n",
       "</style>\n",
       "<table border=\"1\" class=\"dataframe\">\n",
       "  <thead>\n",
       "    <tr style=\"text-align: right;\">\n",
       "      <th></th>\n",
       "      <th>data</th>\n",
       "      <th>title_x</th>\n",
       "      <th>title_y</th>\n",
       "      <th>title</th>\n",
       "      <th>value</th>\n",
       "      <th>tag</th>\n",
       "    </tr>\n",
       "  </thead>\n",
       "  <tbody>\n",
       "    <tr>\n",
       "      <th>0</th>\n",
       "      <td>লিখার সময় পারলে সত্য লিখার অভ্যাস শিখুন</td>\n",
       "      <td>-1</td>\n",
       "      <td>-1</td>\n",
       "      <td>2</td>\n",
       "      <td>-1</td>\n",
       "      <td>1</td>\n",
       "    </tr>\n",
       "    <tr>\n",
       "      <th>1</th>\n",
       "      <td>এটা কেন হচ্ছে সংশ্লিষ্ট সকলের ডিপ্রেশনের ফলে ন...</td>\n",
       "      <td>-1</td>\n",
       "      <td>-1</td>\n",
       "      <td>-1</td>\n",
       "      <td>-1</td>\n",
       "      <td>1</td>\n",
       "    </tr>\n",
       "    <tr>\n",
       "      <th>2</th>\n",
       "      <td>আমাদের দেশের স্বাভাবিক অর্থনৈতিক গতিপ্রবাহকে ব...</td>\n",
       "      <td>-1</td>\n",
       "      <td>-2</td>\n",
       "      <td>-2</td>\n",
       "      <td>-5</td>\n",
       "      <td>2</td>\n",
       "    </tr>\n",
       "    <tr>\n",
       "      <th>3</th>\n",
       "      <td>চুরি নয় লুটপাট</td>\n",
       "      <td>-2</td>\n",
       "      <td>-2</td>\n",
       "      <td>-2</td>\n",
       "      <td>-6</td>\n",
       "      <td>2</td>\n",
       "    </tr>\n",
       "    <tr>\n",
       "      <th>4</th>\n",
       "      <td>ইসলামী ব্যাংকের বর্তমান অবস্থা দেখে মনে হয় শাস...</td>\n",
       "      <td>0</td>\n",
       "      <td>-1</td>\n",
       "      <td>0</td>\n",
       "      <td>0</td>\n",
       "      <td>0</td>\n",
       "    </tr>\n",
       "  </tbody>\n",
       "</table>\n",
       "</div>"
      ],
      "text/plain": [
       "                                                data  title_x  title_y  title  \\\n",
       "0            লিখার সময় পারলে সত্য লিখার অভ্যাস শিখুন       -1       -1      2   \n",
       "1  এটা কেন হচ্ছে সংশ্লিষ্ট সকলের ডিপ্রেশনের ফলে ন...       -1       -1     -1   \n",
       "2  আমাদের দেশের স্বাভাবিক অর্থনৈতিক গতিপ্রবাহকে ব...       -1       -2     -2   \n",
       "3                                     চুরি নয় লুটপাট       -2       -2     -2   \n",
       "4  ইসলামী ব্যাংকের বর্তমান অবস্থা দেখে মনে হয় শাস...        0       -1      0   \n",
       "\n",
       "   value  tag  \n",
       "0     -1    1  \n",
       "1     -1    1  \n",
       "2     -5    2  \n",
       "3     -6    2  \n",
       "4      0    0  "
      ]
     },
     "execution_count": 194,
     "metadata": {},
     "output_type": "execute_result"
    }
   ],
   "source": [
    "data.head()"
   ]
  },
  {
   "cell_type": "code",
   "execution_count": 195,
   "metadata": {},
   "outputs": [
    {
     "data": {
      "text/plain": [
       "data       object\n",
       "title_x     int64\n",
       "title_y     int64\n",
       "title       int64\n",
       "value       int64\n",
       "tag         int64\n",
       "dtype: object"
      ]
     },
     "execution_count": 195,
     "metadata": {},
     "output_type": "execute_result"
    }
   ],
   "source": [
    "data.dtypes"
   ]
  },
  {
   "cell_type": "code",
   "execution_count": null,
   "metadata": {},
   "outputs": [],
   "source": []
  },
  {
   "cell_type": "markdown",
   "metadata": {},
   "source": [
    "### Dropping unnecessary columns"
   ]
  },
  {
   "cell_type": "code",
   "execution_count": 196,
   "metadata": {},
   "outputs": [],
   "source": [
    "data = data.drop(['title_x', 'title_y', 'title', 'value'], axis=1)"
   ]
  },
  {
   "cell_type": "code",
   "execution_count": 197,
   "metadata": {},
   "outputs": [
    {
     "data": {
      "text/html": [
       "<div>\n",
       "<style scoped>\n",
       "    .dataframe tbody tr th:only-of-type {\n",
       "        vertical-align: middle;\n",
       "    }\n",
       "\n",
       "    .dataframe tbody tr th {\n",
       "        vertical-align: top;\n",
       "    }\n",
       "\n",
       "    .dataframe thead th {\n",
       "        text-align: right;\n",
       "    }\n",
       "</style>\n",
       "<table border=\"1\" class=\"dataframe\">\n",
       "  <thead>\n",
       "    <tr style=\"text-align: right;\">\n",
       "      <th></th>\n",
       "      <th>data</th>\n",
       "      <th>tag</th>\n",
       "    </tr>\n",
       "  </thead>\n",
       "  <tbody>\n",
       "    <tr>\n",
       "      <th>0</th>\n",
       "      <td>লিখার সময় পারলে সত্য লিখার অভ্যাস শিখুন</td>\n",
       "      <td>1</td>\n",
       "    </tr>\n",
       "    <tr>\n",
       "      <th>1</th>\n",
       "      <td>এটা কেন হচ্ছে সংশ্লিষ্ট সকলের ডিপ্রেশনের ফলে ন...</td>\n",
       "      <td>1</td>\n",
       "    </tr>\n",
       "    <tr>\n",
       "      <th>2</th>\n",
       "      <td>আমাদের দেশের স্বাভাবিক অর্থনৈতিক গতিপ্রবাহকে ব...</td>\n",
       "      <td>2</td>\n",
       "    </tr>\n",
       "    <tr>\n",
       "      <th>3</th>\n",
       "      <td>চুরি নয় লুটপাট</td>\n",
       "      <td>2</td>\n",
       "    </tr>\n",
       "    <tr>\n",
       "      <th>4</th>\n",
       "      <td>ইসলামী ব্যাংকের বর্তমান অবস্থা দেখে মনে হয় শাস...</td>\n",
       "      <td>0</td>\n",
       "    </tr>\n",
       "  </tbody>\n",
       "</table>\n",
       "</div>"
      ],
      "text/plain": [
       "                                                data  tag\n",
       "0            লিখার সময় পারলে সত্য লিখার অভ্যাস শিখুন    1\n",
       "1  এটা কেন হচ্ছে সংশ্লিষ্ট সকলের ডিপ্রেশনের ফলে ন...    1\n",
       "2  আমাদের দেশের স্বাভাবিক অর্থনৈতিক গতিপ্রবাহকে ব...    2\n",
       "3                                     চুরি নয় লুটপাট    2\n",
       "4  ইসলামী ব্যাংকের বর্তমান অবস্থা দেখে মনে হয় শাস...    0"
      ]
     },
     "execution_count": 197,
     "metadata": {},
     "output_type": "execute_result"
    }
   ],
   "source": [
    "data.head()"
   ]
  },
  {
   "cell_type": "code",
   "execution_count": null,
   "metadata": {},
   "outputs": [],
   "source": []
  },
  {
   "cell_type": "markdown",
   "metadata": {},
   "source": [
    "### class of label data"
   ]
  },
  {
   "cell_type": "code",
   "execution_count": 198,
   "metadata": {},
   "outputs": [
    {
     "data": {
      "text/plain": [
       "<AxesSubplot:xlabel='tag', ylabel='count'>"
      ]
     },
     "execution_count": 198,
     "metadata": {},
     "output_type": "execute_result"
    },
    {
     "data": {
      "image/png": "[encoded data removed]",
      "text/plain": [
       "<Figure size 432x288 with 1 Axes>"
      ]
     },
     "metadata": {
      "needs_background": "light"
     },
     "output_type": "display_data"
    }
   ],
   "source": [
    "sns.countplot(x='tag', data=data)"
   ]
  },
  {
   "cell_type": "code",
   "execution_count": null,
   "metadata": {},
   "outputs": [],
   "source": []
  },
  {
   "cell_type": "markdown",
   "metadata": {},
   "source": [
    "### Shuffle dataset"
   ]
  },
  {
   "cell_type": "code",
   "execution_count": 199,
   "metadata": {},
   "outputs": [],
   "source": [
    "data = data.reset_index(drop=True)"
   ]
  },
  {
   "cell_type": "code",
   "execution_count": 200,
   "metadata": {},
   "outputs": [],
   "source": [
    "data = data.sample(frac=1).reset_index(drop=True)"
   ]
  },
  {
   "cell_type": "code",
   "execution_count": 201,
   "metadata": {},
   "outputs": [
    {
     "data": {
      "text/html": [
       "<div>\n",
       "<style scoped>\n",
       "    .dataframe tbody tr th:only-of-type {\n",
       "        vertical-align: middle;\n",
       "    }\n",
       "\n",
       "    .dataframe tbody tr th {\n",
       "        vertical-align: top;\n",
       "    }\n",
       "\n",
       "    .dataframe thead th {\n",
       "        text-align: right;\n",
       "    }\n",
       "</style>\n",
       "<table border=\"1\" class=\"dataframe\">\n",
       "  <thead>\n",
       "    <tr style=\"text-align: right;\">\n",
       "      <th></th>\n",
       "      <th>data</th>\n",
       "      <th>tag</th>\n",
       "    </tr>\n",
       "  </thead>\n",
       "  <tbody>\n",
       "    <tr>\n",
       "      <th>0</th>\n",
       "      <td>বিএনপির পর বর্তমান সরকার কি পরমিান লোক পাঠায়ছে</td>\n",
       "      <td>0</td>\n",
       "    </tr>\n",
       "    <tr>\n",
       "      <th>1</th>\n",
       "      <td>তামিম ইকবালইমরুল কায়েসসাকিব আল হাসান মুশফিকুর ...</td>\n",
       "      <td>0</td>\n",
       "    </tr>\n",
       "    <tr>\n",
       "      <th>2</th>\n",
       "      <td>বৈধ পথে কল কমার কারণ দুটি—অবৈধ ভিওআইপি এবং হোয়...</td>\n",
       "      <td>0</td>\n",
       "    </tr>\n",
       "    <tr>\n",
       "      <th>3</th>\n",
       "      <td>মি মুন্না এখনো পৃথিবীর অত্যাধুনিক শহর গুলোতে হ...</td>\n",
       "      <td>0</td>\n",
       "    </tr>\n",
       "    <tr>\n",
       "      <th>4</th>\n",
       "      <td>পরীক্ষা শুরুর আগেই পরীক্ষা কেন্দ্রেই প্রশ্নপত্...</td>\n",
       "      <td>4</td>\n",
       "    </tr>\n",
       "  </tbody>\n",
       "</table>\n",
       "</div>"
      ],
      "text/plain": [
       "                                                data  tag\n",
       "0     বিএনপির পর বর্তমান সরকার কি পরমিান লোক পাঠায়ছে    0\n",
       "1  তামিম ইকবালইমরুল কায়েসসাকিব আল হাসান মুশফিকুর ...    0\n",
       "2  বৈধ পথে কল কমার কারণ দুটি—অবৈধ ভিওআইপি এবং হোয়...    0\n",
       "3  মি মুন্না এখনো পৃথিবীর অত্যাধুনিক শহর গুলোতে হ...    0\n",
       "4  পরীক্ষা শুরুর আগেই পরীক্ষা কেন্দ্রেই প্রশ্নপত্...    4"
      ]
     },
     "execution_count": 201,
     "metadata": {},
     "output_type": "execute_result"
    }
   ],
   "source": [
    "data.head()"
   ]
  },
  {
   "cell_type": "markdown",
   "metadata": {},
   "source": [
    "### Feature and Label data"
   ]
  },
  {
   "cell_type": "code",
   "execution_count": 202,
   "metadata": {},
   "outputs": [],
   "source": [
    "feature = data['data'].values\n",
    "label = data['tag']"
   ]
  },
  {
   "cell_type": "code",
   "execution_count": 203,
   "metadata": {},
   "outputs": [
    {
     "data": {
      "text/plain": [
       "array(['বিএনপির পর বর্তমান সরকার কি পরমিান লোক পাঠায়ছে',\n",
       "       'তামিম ইকবালইমরুল কায়েসসাকিব আল হাসান মুশফিকুর রহিমমাহমুদউল্লাহলিটন দাসমো মিঠুনমেহেদী হাসান মিরাজসাইফউদ্দিননাজমুল ইসলাম অপু পেসস্পিন উইকেট অনুযায়ীমাশরাফি বিন মুর্তজা মোস্তাফিজুর রহমানরিজার্ভঃসৌম্য সরকার আরিফুল হক রুবেল হোসেন ও আবু হায়দার রনি',\n",
       "       'বৈধ পথে কল কমার কারণ দুটি—অবৈধ ভিওআইপি এবং হোয়াটসঅ্যাপ ইমোর মতো ওভার দ্য টপ সেবা প্রথম টা বাদ দ্বিতীয়টা প্রধান কারন তাছাড়া আছে ফেসবুক মেসেন্জার ইমেইল ইত্যাদি',\n",
       "       ..., 'রিদওয়ান বিবেক পুরা সাইকো',\n",
       "       'খুব সুন্দর লেখা ধন্যবাদ অনুবাদককে ভিনদেশী এক তরুণীর চোখে বাংলাদেশকে নতুনভাবে আবিষ্কার করলাম',\n",
       "       'নাসিরুল স্যারকে সতত শ্রদ্ধা জ্ঞাপন করছি  আরো এগিয়ে যান আপনার জন্য শুভ কামনা রইলো '],\n",
       "      dtype=object)"
      ]
     },
     "execution_count": 203,
     "metadata": {},
     "output_type": "execute_result"
    }
   ],
   "source": [
    "feature"
   ]
  },
  {
   "cell_type": "code",
   "execution_count": 204,
   "metadata": {},
   "outputs": [
    {
     "data": {
      "text/plain": [
       "0        0\n",
       "1        0\n",
       "2        0\n",
       "3        0\n",
       "4        4\n",
       "        ..\n",
       "13797    3\n",
       "13798    3\n",
       "13799    2\n",
       "13800    4\n",
       "13801    4\n",
       "Name: tag, Length: 13802, dtype: int64"
      ]
     },
     "execution_count": 204,
     "metadata": {},
     "output_type": "execute_result"
    }
   ],
   "source": [
    "label"
   ]
  },
  {
   "cell_type": "code",
   "execution_count": 205,
   "metadata": {},
   "outputs": [
    {
     "name": "stdout",
     "output_type": "stream",
     "text": [
      "Length of feature is :13802 and length of label is :13802\n"
     ]
    }
   ],
   "source": [
    "print(f\"Length of feature is :{len(feature)} and length of label is :{len(label)}\")"
   ]
  },
  {
   "cell_type": "code",
   "execution_count": null,
   "metadata": {},
   "outputs": [],
   "source": []
  },
  {
   "cell_type": "markdown",
   "metadata": {},
   "source": [
    "### Tokenize"
   ]
  },
  {
   "cell_type": "code",
   "execution_count": 206,
   "metadata": {},
   "outputs": [],
   "source": [
    "tokenizer = Tokenizer()\n",
    "tokenizer.fit_on_texts(feature)\n",
    "\n",
    "X_token = tokenizer.texts_to_sequences(feature)\n"
   ]
  },
  {
   "cell_type": "code",
   "execution_count": 207,
   "metadata": {},
   "outputs": [
    {
     "name": "stdout",
     "output_type": "stream",
     "text": [
      "[166, 98, 323, 48, 4, 15086, 213, 15087]\n",
      "[876, 15088, 15089, 1416, 2076, 9909, 15090, 15091, 15092, 2076, 15093, 812, 4729, 15094, 813, 15095, 1519, 5381, 9910, 15096, 48, 7639, 1366, 2202, 1476, 10, 1899, 4730, 4731]\n",
      "[1063, 547, 858, 3459, 133, 15097, 7640, 30, 15098, 9911, 118, 1219, 4732, 3792, 598, 123, 275, 333, 9912, 491, 158, 1289, 18, 960, 15099, 3460, 657]\n",
      "[1326, 7641, 274, 503, 9913, 1812, 2077, 84, 84, 7642, 7643, 7644, 1900, 2, 249, 3793, 620, 117, 165, 208, 7, 1, 1117, 7645, 84, 126, 291, 34, 35, 208, 285, 38, 1]\n",
      "[380, 2583, 302, 380, 9914, 1728, 4209, 51, 1417, 10, 1901, 18, 277, 12, 2760, 40, 1418, 9, 38, 726, 180, 15100, 3461, 297, 40, 1]\n"
     ]
    },
    {
     "data": {
      "text/plain": [
       "[None, None, None, None, None]"
      ]
     },
     "execution_count": 207,
     "metadata": {},
     "output_type": "execute_result"
    }
   ],
   "source": [
    "# printing some token\n",
    "tok = [print(X_token[tok]) for tok in range(5)]\n",
    "tok             "
   ]
  },
  {
   "cell_type": "code",
   "execution_count": 208,
   "metadata": {},
   "outputs": [
    {
     "data": {
      "text/plain": [
       "36494"
      ]
     },
     "execution_count": 208,
     "metadata": {},
     "output_type": "execute_result"
    }
   ],
   "source": [
    "vocab_size = len(tokenizer.word_index) + 1  # Adding 1 because of reserved 0 index\n",
    "vocab_size"
   ]
  },
  {
   "cell_type": "code",
   "execution_count": 209,
   "metadata": {},
   "outputs": [
    {
     "data": {
      "text/plain": [
       "{'না': 1,\n",
       " 'করে': 2,\n",
       " 'আর': 3,\n",
       " 'কি': 4,\n",
       " 'এই': 5,\n",
       " 'হবে': 6,\n",
       " 'হয়': 7,\n",
       " 'জন্য': 8,\n",
       " 'করা': 9,\n",
       " 'ও': 10,\n",
       " 'যে': 11,\n",
       " 'থেকে': 12,\n",
       " 'কোন': 13,\n",
       " 'তো': 14,\n",
       " 'টাকা': 15,\n",
       " 'করতে': 16,\n",
       " 'আমাদের': 17,\n",
       " 'আছে': 18,\n",
       " 'কথা': 19,\n",
       " 'এর': 20,\n",
       " 'তাদের': 21,\n",
       " 'দেশের': 22,\n",
       " 'এখন': 23,\n",
       " 'তার': 24,\n",
       " 'নিয়ে': 25,\n",
       " 'কিছু': 26,\n",
       " 'কিন্তু': 27,\n",
       " 'হয়ে': 28,\n",
       " 'সব': 29,\n",
       " 'এবং': 30,\n",
       " 'এ': 31,\n",
       " 'মনে': 32,\n",
       " 'অনেক': 33,\n",
       " 'তা': 34,\n",
       " 'দিয়ে': 35,\n",
       " 'আমরা': 36,\n",
       " 'কেন': 37,\n",
       " 'যায়': 38,\n",
       " 'একটা': 39,\n",
       " 'এটা': 40,\n",
       " 'সাথে': 41,\n",
       " 'তারা': 42,\n",
       " 'হচ্ছে': 43,\n",
       " 'পারে': 44,\n",
       " 'নেই': 45,\n",
       " 'বলে': 46,\n",
       " 'ভালো': 47,\n",
       " 'সরকার': 48,\n",
       " 'নয়': 49,\n",
       " 'নাই': 50}"
      ]
     },
     "execution_count": 209,
     "metadata": {},
     "output_type": "execute_result"
    }
   ],
   "source": [
    "out = dict(itertools.islice(tokenizer.word_index.items(), 50))  \n",
    "out"
   ]
  },
  {
   "cell_type": "code",
   "execution_count": null,
   "metadata": {},
   "outputs": [],
   "source": []
  },
  {
   "cell_type": "markdown",
   "metadata": {},
   "source": [
    "### Some text and token"
   ]
  },
  {
   "cell_type": "code",
   "execution_count": 210,
   "metadata": {},
   "outputs": [
    {
     "name": "stdout",
     "output_type": "stream",
     "text": [
      "বিএনপির পর বর্তমান সরকার কি পরমিান লোক পাঠায়ছে\n",
      "[166, 98, 323, 48, 4, 15086, 213, 15087]\n",
      "তামিম ইকবালইমরুল কায়েসসাকিব আল হাসান মুশফিকুর রহিমমাহমুদউল্লাহলিটন দাসমো মিঠুনমেহেদী হাসান মিরাজসাইফউদ্দিননাজমুল ইসলাম অপু পেসস্পিন উইকেট অনুযায়ীমাশরাফি বিন মুর্তজা মোস্তাফিজুর রহমানরিজার্ভঃসৌম্য সরকার আরিফুল হক রুবেল হোসেন ও আবু হায়দার রনি\n",
      "[876, 15088, 15089, 1416, 2076, 9909, 15090, 15091, 15092, 2076, 15093, 812, 4729, 15094, 813, 15095, 1519, 5381, 9910, 15096, 48, 7639, 1366, 2202, 1476, 10, 1899, 4730, 4731]\n",
      "বৈধ পথে কল কমার কারণ দুটি—অবৈধ ভিওআইপি এবং হোয়াটসঅ্যাপ ইমোর মতো ওভার দ্য টপ সেবা প্রথম টা বাদ দ্বিতীয়টা প্রধান কারন তাছাড়া আছে ফেসবুক মেসেন্জার ইমেইল ইত্যাদি\n",
      "[1063, 547, 858, 3459, 133, 15097, 7640, 30, 15098, 9911, 118, 1219, 4732, 3792, 598, 123, 275, 333, 9912, 491, 158, 1289, 18, 960, 15099, 3460, 657]\n",
      "মি মুন্না এখনো পৃথিবীর অত্যাধুনিক শহর গুলোতে হাজার হাজার ইঁদুর তেলাপোকা ছারপোকা বসবাস করে তাতে নাগরিকদের ক্ষতি ছাড়া লাভ কিছুই হয় না সুতরাং সংখ্যাটা হাজার নাকি লাখ তা দিয়ে কিছুই আসে যায় না\n",
      "[1326, 7641, 274, 503, 9913, 1812, 2077, 84, 84, 7642, 7643, 7644, 1900, 2, 249, 3793, 620, 117, 165, 208, 7, 1, 1117, 7645, 84, 126, 291, 34, 35, 208, 285, 38, 1]\n",
      "পরীক্ষা শুরুর আগেই পরীক্ষা কেন্দ্রেই প্রশ্নপত্র প্রিন্ট করার ব্যাবস্থা ও প্রযুক্তি আছে ঢাকা থেকে অনলাইনে এটা নিয়ন্ত্রণ করা যায় ইচ্ছা থাকলে সম্ভবএত জটিল বিষয় এটা না\n",
      "[380, 2583, 302, 380, 9914, 1728, 4209, 51, 1417, 10, 1901, 18, 277, 12, 2760, 40, 1418, 9, 38, 726, 180, 15100, 3461, 297, 40, 1]\n"
     ]
    }
   ],
   "source": [
    "for i in range(5):\n",
    "    print(feature[i])\n",
    "    print(X_token[i])"
   ]
  },
  {
   "cell_type": "code",
   "execution_count": null,
   "metadata": {},
   "outputs": [],
   "source": []
  },
  {
   "cell_type": "markdown",
   "metadata": {},
   "source": [
    "### pad sequence"
   ]
  },
  {
   "cell_type": "code",
   "execution_count": 211,
   "metadata": {},
   "outputs": [],
   "source": [
    "maxlen = 100\n",
    "X_pad = pad_sequences(X_token, padding='post', maxlen=maxlen)"
   ]
  },
  {
   "cell_type": "code",
   "execution_count": 212,
   "metadata": {},
   "outputs": [
    {
     "name": "stdout",
     "output_type": "stream",
     "text": [
      "Shape of X_pad is :(13802, 100) and Shape of label is (13802,)\n"
     ]
    }
   ],
   "source": [
    "print(f\"Shape of X_pad is :{X_pad.shape} and Shape of label is {label.shape}\")"
   ]
  },
  {
   "cell_type": "code",
   "execution_count": null,
   "metadata": {},
   "outputs": [],
   "source": []
  },
  {
   "cell_type": "markdown",
   "metadata": {},
   "source": [
    "### Making DataFrame"
   ]
  },
  {
   "cell_type": "code",
   "execution_count": 213,
   "metadata": {},
   "outputs": [
    {
     "data": {
      "text/plain": [
       "(13802, 100)"
      ]
     },
     "execution_count": 213,
     "metadata": {},
     "output_type": "execute_result"
    }
   ],
   "source": [
    "df = pd.DataFrame(X_pad)\n",
    "df.shape"
   ]
  },
  {
   "cell_type": "code",
   "execution_count": 214,
   "metadata": {},
   "outputs": [
    {
     "data": {
      "text/plain": [
       "(13802,)"
      ]
     },
     "execution_count": 214,
     "metadata": {},
     "output_type": "execute_result"
    }
   ],
   "source": [
    "label.shape"
   ]
  },
  {
   "cell_type": "code",
   "execution_count": null,
   "metadata": {},
   "outputs": [],
   "source": []
  },
  {
   "cell_type": "markdown",
   "metadata": {},
   "source": [
    "### Dividing dataset"
   ]
  },
  {
   "cell_type": "code",
   "execution_count": 215,
   "metadata": {},
   "outputs": [
    {
     "name": "stdout",
     "output_type": "stream",
     "text": [
      "Shape of x_train :(12421, 100) Shape of xtest :(1381, 100) Shape of ytrain :(12421,) Shape of ytest(1381,)\n"
     ]
    }
   ],
   "source": [
    "x_train, x_test, y_train, y_test = train_test_split(df.values, label.values, test_size=0.1, random_state=42)\n",
    "print(f\"Shape of x_train :{x_train.shape} Shape of xtest :{x_test.shape} Shape of ytrain :{y_train.shape} Shape of ytest{y_test.shape}\")\n"
   ]
  },
  {
   "cell_type": "code",
   "execution_count": null,
   "metadata": {},
   "outputs": [],
   "source": []
  },
  {
   "cell_type": "markdown",
   "metadata": {},
   "source": [
    "### MultinomialNB"
   ]
  },
  {
   "cell_type": "code",
   "execution_count": 216,
   "metadata": {},
   "outputs": [
    {
     "data": {
      "text/plain": [
       "MultinomialNB()"
      ]
     },
     "execution_count": 216,
     "metadata": {},
     "output_type": "execute_result"
    }
   ],
   "source": [
    "mnb = MultinomialNB()\n",
    "mnb.fit(x_train,y_train)\n",
    "\n"
   ]
  },
  {
   "cell_type": "code",
   "execution_count": 217,
   "metadata": {},
   "outputs": [
    {
     "data": {
      "text/plain": [
       "0.2179580014482259"
      ]
     },
     "execution_count": 217,
     "metadata": {},
     "output_type": "execute_result"
    }
   ],
   "source": [
    "mnb.score(x_test,y_test)\n"
   ]
  },
  {
   "cell_type": "code",
   "execution_count": null,
   "metadata": {},
   "outputs": [],
   "source": []
  },
  {
   "cell_type": "markdown",
   "metadata": {},
   "source": [
    "### MultinomialNB with Hyperparameter"
   ]
  },
  {
   "cell_type": "code",
   "execution_count": 218,
   "metadata": {},
   "outputs": [
    {
     "name": "stderr",
     "output_type": "stream",
     "text": [
      "/home/hasan/anaconda3/lib/python3.8/site-packages/sklearn/naive_bayes.py:511: UserWarning: alpha too small will result in numeric errors, setting alpha = 1.0e-10\n",
      "  warnings.warn('alpha too small will result in numeric errors, '\n"
     ]
    },
    {
     "name": "stdout",
     "output_type": "stream",
     "text": [
      "for alpha =0.0 accuracy is 0.2179580014482259\n",
      "for alpha =0.1 accuracy is 0.2179580014482259\n",
      "for alpha =0.2 accuracy is 0.2179580014482259\n",
      "for alpha =0.30000000000000004 accuracy is 0.2179580014482259\n",
      "for alpha =0.4 accuracy is 0.2179580014482259\n",
      "for alpha =0.5 accuracy is 0.2179580014482259\n",
      "for alpha =0.6000000000000001 accuracy is 0.2179580014482259\n",
      "for alpha =0.7000000000000001 accuracy is 0.2179580014482259\n",
      "for alpha =0.8 accuracy is 0.2179580014482259\n",
      "for alpha =0.9 accuracy is 0.2179580014482259\n"
     ]
    }
   ],
   "source": [
    "for alpha  in np.arange(0,1, .1):\n",
    "    mnb_hyparamet = MultinomialNB(alpha=alpha)\n",
    "    mnb_hyparamet.fit(x_train,y_train)\n",
    "    scores = mnb_hyparamet.score(x_test,y_test)\n",
    "    print('for alpha ={} accuracy is {}'.format(alpha, scores))"
   ]
  },
  {
   "cell_type": "code",
   "execution_count": 219,
   "metadata": {},
   "outputs": [
    {
     "data": {
      "text/plain": [
       "MultinomialNB(alpha=0.2)"
      ]
     },
     "execution_count": 219,
     "metadata": {},
     "output_type": "execute_result"
    }
   ],
   "source": [
    "#with alpha=.2\n",
    "mnb = MultinomialNB(alpha=.2)\n",
    "mnb.fit(x_train,y_train)\n"
   ]
  },
  {
   "cell_type": "code",
   "execution_count": 220,
   "metadata": {},
   "outputs": [
    {
     "data": {
      "text/plain": [
       "0.2179580014482259"
      ]
     },
     "execution_count": 220,
     "metadata": {},
     "output_type": "execute_result"
    }
   ],
   "source": [
    "#printing score of the model\n",
    "mnb.score(x_test,y_test)"
   ]
  },
  {
   "cell_type": "code",
   "execution_count": 221,
   "metadata": {},
   "outputs": [
    {
     "data": {
      "text/plain": [
       "array([0, 4, 4, ..., 1, 0, 1])"
      ]
     },
     "execution_count": 221,
     "metadata": {},
     "output_type": "execute_result"
    }
   ],
   "source": [
    "#predicting with test data\n",
    "predicted = mnb.predict(x_test)\n",
    "predicted"
   ]
  },
  {
   "cell_type": "code",
   "execution_count": null,
   "metadata": {},
   "outputs": [],
   "source": []
  },
  {
   "cell_type": "markdown",
   "metadata": {},
   "source": [
    "### PassiveAggressiveClassifier"
   ]
  },
  {
   "cell_type": "code",
   "execution_count": 222,
   "metadata": {},
   "outputs": [
    {
     "data": {
      "text/plain": [
       "PassiveAggressiveClassifier()"
      ]
     },
     "execution_count": 222,
     "metadata": {},
     "output_type": "execute_result"
    }
   ],
   "source": [
    "pac = PassiveAggressiveClassifier()\n",
    "pac.fit(x_train,y_train)"
   ]
  },
  {
   "cell_type": "code",
   "execution_count": 223,
   "metadata": {},
   "outputs": [
    {
     "data": {
      "text/plain": [
       "0.24547429398986242"
      ]
     },
     "execution_count": 223,
     "metadata": {},
     "output_type": "execute_result"
    }
   ],
   "source": [
    "pac.score(x_test,y_test)"
   ]
  },
  {
   "cell_type": "code",
   "execution_count": 224,
   "metadata": {},
   "outputs": [],
   "source": [
    "predicted = pac.predict(x_test)"
   ]
  },
  {
   "cell_type": "code",
   "execution_count": null,
   "metadata": {},
   "outputs": [],
   "source": []
  },
  {
   "cell_type": "markdown",
   "metadata": {},
   "source": [
    "### classification report"
   ]
  },
  {
   "cell_type": "code",
   "execution_count": 227,
   "metadata": {},
   "outputs": [
    {
     "name": "stdout",
     "output_type": "stream",
     "text": [
      "              precision    recall  f1-score   support\n",
      "\n",
      "           0       0.21      0.23      0.22       292\n",
      "           1       0.23      0.12      0.16       333\n",
      "           2       0.31      0.39      0.34       412\n",
      "           3       0.20      0.03      0.06       119\n",
      "           4       0.20      0.31      0.24       225\n",
      "\n",
      "    accuracy                           0.25      1381\n",
      "   macro avg       0.23      0.22      0.20      1381\n",
      "weighted avg       0.24      0.25      0.23      1381\n",
      "\n"
     ]
    }
   ],
   "source": [
    "print(classification_report(y_test,predicted))\n"
   ]
  },
  {
   "cell_type": "code",
   "execution_count": null,
   "metadata": {},
   "outputs": [],
   "source": []
  }
 ],
 "metadata": {
  "kernelspec": {
   "display_name": "Python 3",
   "language": "python",
   "name": "python3"
  },
  "language_info": {
   "codemirror_mode": {
    "name": "ipython",
    "version": 3
   },
   "file_extension": ".py",
   "mimetype": "text/x-python",
   "name": "python",
   "nbconvert_exporter": "python",
   "pygments_lexer": "ipython3",
   "version": "3.8.2"
  }
 },
 "nbformat": 4,
 "nbformat_minor": 4
}
